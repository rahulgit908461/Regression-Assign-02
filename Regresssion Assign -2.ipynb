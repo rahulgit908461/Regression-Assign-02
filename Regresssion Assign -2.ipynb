{
 "cells": [
  {
   "cell_type": "code",
   "execution_count": 1,
   "id": "806ea815-7d8d-490f-90c8-3e1efbbd4117",
   "metadata": {},
   "outputs": [],
   "source": [
    "#Q1. Explain the concept of R-squared in linear regression models. How is it calculated, and what does it\n",
    "#represent?"
   ]
  },
  {
   "cell_type": "code",
   "execution_count": 2,
   "id": "fa881e09-121f-42c4-beb2-3be08de9b823",
   "metadata": {},
   "outputs": [],
   "source": [
    "#R-squared (R2) is a statistical measure that represents the proportion of the variance for a dependent variable that's \n",
    "#explained by an independent variable in a regression model.\n",
    "\n",
    "#R 2 = 1 − sum squared regression (SSR) total sum of squares (SST) , = 1 − ∑ ( y i − y i ^ ) 2 ∑ ( y i − y ¯ ) 2 . The sum squared \n",
    "#regression is the sum of the residuals squared, and the total sum of squares is the sum of the distance the data is away from \n",
    "#the mean all squared.\n",
    "\n",
    "#R-squared is a measure of how well a linear regression model fits the data."
   ]
  },
  {
   "cell_type": "code",
   "execution_count": 3,
   "id": "db027c84-fa55-42df-a712-896322c5855a",
   "metadata": {},
   "outputs": [],
   "source": [
    "#Q2. Define adjusted R-squared and explain how it differs from the regular R-squared.\n"
   ]
  },
  {
   "cell_type": "code",
   "execution_count": 4,
   "id": "0fb7b66a-dde2-468f-8314-fec084a91aa9",
   "metadata": {},
   "outputs": [],
   "source": [
    "#Adjusted R-squared is a modified version of R-squared that has been adjusted for the number of predictors in the model. \n",
    "#The adjusted R-squared increases when the new term improves the model more than would be expected by chance. It decreases \n",
    "#when a predictor improves the model by less than expected.\n"
   ]
  },
  {
   "cell_type": "code",
   "execution_count": 5,
   "id": "207e3867-e2bf-4716-bbfc-f12bbdc9a49e",
   "metadata": {},
   "outputs": [],
   "source": [
    "#Q3.When is it more appropriate to use adjusted R-squared?"
   ]
  },
  {
   "cell_type": "code",
   "execution_count": 6,
   "id": "ad308c95-dedd-4d10-81c5-322ca86c5774",
   "metadata": {},
   "outputs": [],
   "source": [
    "#Using adjusted R-squared over R-squared may be favored because of its ability to make a more accurate view of the correlation \n",
    "#between one variable and another. Adjusted R-squared does this by taking into account how many independent variables are added \n",
    "#to a particular model against which the stock index is measured."
   ]
  },
  {
   "cell_type": "code",
   "execution_count": 7,
   "id": "9f22648a-d96b-4f20-81b1-bf2dbc565e60",
   "metadata": {},
   "outputs": [],
   "source": [
    "#Q4. What are RMSE, MSE, and MAE in the context of regression analysis? How are these metrics\n",
    "#calculated, and what do they represent?"
   ]
  },
  {
   "cell_type": "code",
   "execution_count": 1,
   "id": "abd40c48-b583-4d09-86cd-7dc0d7b6c740",
   "metadata": {},
   "outputs": [],
   "source": [
    "#Usually the metrics used are the Mean Average Error (MAE), the Mean Squared Error (MSE) or the Root Mean Squared Error (RMSE). \n",
    "#In short, MAE evaluates the absolute distance of the observations (the entries of the dataset) to the predictions on a regression,\n",
    "#taking the average over all observations.\n",
    "#The Mean absolute error is calculated by adding up all the absolute errors and dividing them by the number of errors.\n",
    "#RMSE = sqrt(1 / N * sum for i to N (y_i – yhat_i)^2)\n",
    "#MAE = (1/n) Σ(i=1 to n) |y_i – ŷ_i|"
   ]
  },
  {
   "cell_type": "code",
   "execution_count": 2,
   "id": "8ba40d6f-31fe-441a-b07c-b50f4de7b32c",
   "metadata": {},
   "outputs": [],
   "source": [
    "#Q5. Discuss the advantages and disadvantages of using RMSE, MSE, and MAE as evaluation metrics in\n",
    "#regression analysis."
   ]
  },
  {
   "cell_type": "code",
   "execution_count": 3,
   "id": "b57bd531-feff-4faa-9408-023818a53915",
   "metadata": {},
   "outputs": [],
   "source": [
    "#MSE Advantages 1. Equation is diffrentiable. 2. It has only one local or global minima\n",
    "# MSE Disadvantages 1. Not rebust to outliar. 2. Not in same unit\n",
    "# MAE Advantages 1. Robust to outlier. 2. it will be same unit\n",
    "# MAE Disavdantage 1. Converssion take more time \n",
    "# RMSE Advantage 1. Same unit. 2. diffrentiable\n",
    "# RMSE Disadvantage 1. Not robust to outliers "
   ]
  },
  {
   "cell_type": "code",
   "execution_count": 4,
   "id": "d7a1cd5b-e87f-4aed-9965-a70fbb583801",
   "metadata": {},
   "outputs": [],
   "source": [
    "#Q6. Explain the concept of Lasso regularization. How does it differ from Ridge regularization, and when is\n",
    "#it more appropriate to use?"
   ]
  },
  {
   "cell_type": "code",
   "execution_count": 5,
   "id": "2259d11d-a8df-4fba-b20b-ced64316fad2",
   "metadata": {},
   "outputs": [],
   "source": [
    "#Lasso regression is a regularization technique. It is used over regression methods for a more accurate prediction. This model \n",
    "#uses shrinkage. Shrinkage is where data values are shrunk towards a central point as the mean. The lasso procedure encourages \n",
    "#simple, sparse models (i.e. models with fewer parameters).\n",
    "#Ridge works well if there are many large parameters of about the same value (ergo: when most predictors impact the response)."
   ]
  },
  {
   "cell_type": "code",
   "execution_count": 6,
   "id": "43dc6615-949d-4d56-b8e3-0763aefcdb22",
   "metadata": {},
   "outputs": [],
   "source": [
    "#Q7. How do regularized linear models help to prevent overfitting in machine learning? Provide an\n",
    "#example to illustrate."
   ]
  },
  {
   "cell_type": "code",
   "execution_count": 7,
   "id": "10123bc3-7f90-4822-b494-382bfaf65118",
   "metadata": {},
   "outputs": [],
   "source": [
    "#Regularization is a technique that penalizes the coefficient. In an overfit model, the coefficients are generally inflated. \n",
    "#Thus, Regularization adds penalties to the parameters and avoids them weigh heavily. The coefficients are added to the cost \n",
    "#function of the linear equation.\n",
    "#You can prevent overfitting by diversifying and scaling your training data set or using some other data science strategies, \n",
    "#like those given below.\n",
    "#Early stopping. Early stopping pauses the training phase before the machine learning model learns the noise in the data. ...\n",
    "#Pruning. ...\n",
    "#Regularization. ...\n",
    "#Ensembling. ...\n",
    "#Data augmentation."
   ]
  },
  {
   "cell_type": "code",
   "execution_count": 8,
   "id": "c58c83ba-b4cf-475e-8b38-9ab94f93e250",
   "metadata": {},
   "outputs": [],
   "source": [
    "#Q8.Discuss the limitations of regularized linear models and explain why they may not always be the best\n",
    "#choice for regression analysis."
   ]
  },
  {
   "cell_type": "code",
   "execution_count": 9,
   "id": "87477635-36ce-42e6-af95-16227f965eb9",
   "metadata": {},
   "outputs": [],
   "source": [
    "#some methods to deal with them.\n",
    "#Non-Linearity of the response-predictor relationships.\n",
    "#Correlation of error terms.\n",
    "#A non-constant variance of the error term [Heteroscedasticity]\n",
    "#Collinearity.\n",
    "#Outliers and High Leverage Points."
   ]
  },
  {
   "cell_type": "code",
   "execution_count": 10,
   "id": "34ac77a2-8118-44f4-a9ed-20f03f1db4ec",
   "metadata": {},
   "outputs": [],
   "source": [
    "#Q9. You are comparing the performance of two regression models using different evaluation metrics.\n",
    "#Model A has an RMSE of 10, while Model B has an MAE of 8. Which model would you choose as the better\n",
    "#performer, and why? Are there any limitations to your choice of metric?"
   ]
  },
  {
   "cell_type": "code",
   "execution_count": null,
   "id": "66213bf2-4b9e-4eb4-91e9-bba5a2a13675",
   "metadata": {},
   "outputs": [],
   "source": [
    "# chose RMSE of 10 becoz the RMSE is the quadratic scoring rule "
   ]
  }
 ],
 "metadata": {
  "kernelspec": {
   "display_name": "Python 3 (ipykernel)",
   "language": "python",
   "name": "python3"
  },
  "language_info": {
   "codemirror_mode": {
    "name": "ipython",
    "version": 3
   },
   "file_extension": ".py",
   "mimetype": "text/x-python",
   "name": "python",
   "nbconvert_exporter": "python",
   "pygments_lexer": "ipython3",
   "version": "3.10.8"
  }
 },
 "nbformat": 4,
 "nbformat_minor": 5
}
